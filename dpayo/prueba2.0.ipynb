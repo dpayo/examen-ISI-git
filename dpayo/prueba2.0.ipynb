{
 "cells": [
  {
   "cell_type": "markdown",
   "metadata": {},
   "source": [
    "Diego Payo Martinez\n"
   ]
  },
  {
   "cell_type": "code",
   "execution_count": 2,
   "metadata": {
    "collapsed": false
   },
   "outputs": [
    {
     "name": "stderr",
     "output_type": "stream",
     "text": [
      "/usr/local/lib/python3.5/dist-packages/IPython/config.py:13: ShimWarning: The `IPython.config` package has been deprecated. You should import from traitlets.config instead.\n",
      "  \"You should import from traitlets.config instead.\", ShimWarning)\n",
      "/usr/local/lib/python3.5/dist-packages/IPython/utils/traitlets.py:5: UserWarning: IPython.utils.traitlets has moved to a top-level traitlets package.\n",
      "  warn(\"IPython.utils.traitlets has moved to a top-level traitlets package.\")\n"
     ]
    }
   ],
   "source": [
    "%load_ext sql"
   ]
  },
  {
   "cell_type": "code",
   "execution_count": 3,
   "metadata": {
    "collapsed": false
   },
   "outputs": [
    {
     "data": {
      "text/plain": [
       "'Connected: None@prueba2.db'"
      ]
     },
     "execution_count": 3,
     "metadata": {},
     "output_type": "execute_result"
    }
   ],
   "source": [
    "%sql sqlite:///prueba2.db"
   ]
  },
  {
   "cell_type": "code",
   "execution_count": 4,
   "metadata": {
    "collapsed": false
   },
   "outputs": [
    {
     "name": "stdout",
     "output_type": "stream",
     "text": [
      "Done.\n"
     ]
    },
    {
     "data": {
      "text/plain": [
       "[]"
      ]
     },
     "execution_count": 4,
     "metadata": {},
     "output_type": "execute_result"
    }
   ],
   "source": [
    "%sql PRAGMA foreign_keys=ON;"
   ]
  },
  {
   "cell_type": "markdown",
   "metadata": {
    "collapsed": false
   },
   "source": [
    "![Diagrama E/R](DER2.0.JPG)"
   ]
  },
  {
   "cell_type": "code",
   "execution_count": 4,
   "metadata": {
    "collapsed": false
   },
   "outputs": [
    {
     "name": "stdout",
     "output_type": "stream",
     "text": [
      "(sqlite3.OperationalError) table ciudad already exists [SQL: 'create table ciudad (nombre varchar(20),com_auton varchar(20), primary key (nombre,com_auton));']\n"
     ]
    }
   ],
   "source": [
    "%%sql \n",
    "create table ciudad (nombre varchar(20),com_auton varchar(20), primary key (nombre,com_auton));"
   ]
  },
  {
   "cell_type": "code",
   "execution_count": 5,
   "metadata": {
    "collapsed": false
   },
   "outputs": [
    {
     "name": "stdout",
     "output_type": "stream",
     "text": [
      "1 rows affected.\n",
      "1 rows affected.\n",
      "1 rows affected.\n",
      "1 rows affected.\n"
     ]
    },
    {
     "data": {
      "text/plain": [
       "[]"
      ]
     },
     "execution_count": 5,
     "metadata": {},
     "output_type": "execute_result"
    }
   ],
   "source": [
    "%%sql\n",
    "insert into ciudad values ('Fuenlabrada','Madrid');\n",
    "insert into ciudad values ('Avila','Castilla y Leon');\n",
    "insert into ciudad values ('Mostoles','Madrid');\n",
    "insert into ciudad values ('Valencia','Com. Valenciana');"
   ]
  },
  {
   "cell_type": "code",
   "execution_count": 6,
   "metadata": {
    "collapsed": false
   },
   "outputs": [
    {
     "name": "stdout",
     "output_type": "stream",
     "text": [
      "Done.\n"
     ]
    },
    {
     "data": {
      "text/html": [
       "<table>\n",
       "    <tr>\n",
       "        <th>nombre</th>\n",
       "        <th>com_auton</th>\n",
       "    </tr>\n",
       "    <tr>\n",
       "        <td>Fuenlabrada</td>\n",
       "        <td>Madrid</td>\n",
       "    </tr>\n",
       "    <tr>\n",
       "        <td>Avila</td>\n",
       "        <td>Castilla y Leon</td>\n",
       "    </tr>\n",
       "    <tr>\n",
       "        <td>Mostoles</td>\n",
       "        <td>Madrid</td>\n",
       "    </tr>\n",
       "    <tr>\n",
       "        <td>Valencia</td>\n",
       "        <td>Com. Valenciana</td>\n",
       "    </tr>\n",
       "</table>"
      ],
      "text/plain": [
       "[(u'Fuenlabrada', u'Madrid'),\n",
       " (u'Avila', u'Castilla y Leon'),\n",
       " (u'Mostoles', u'Madrid'),\n",
       " (u'Valencia', u'Com. Valenciana')]"
      ]
     },
     "execution_count": 6,
     "metadata": {},
     "output_type": "execute_result"
    }
   ],
   "source": [
    "%sql select * from ciudad;"
   ]
  },
  {
   "cell_type": "code",
   "execution_count": 85,
   "metadata": {
    "collapsed": false
   },
   "outputs": [
    {
     "name": "stdout",
     "output_type": "stream",
     "text": [
      "Done.\n"
     ]
    },
    {
     "data": {
      "text/plain": [
       "[]"
      ]
     },
     "execution_count": 85,
     "metadata": {},
     "output_type": "execute_result"
    }
   ],
   "source": [
    "%sql create table equipo ( nombre varchar(20),primary key(nombre))"
   ]
  },
  {
   "cell_type": "code",
   "execution_count": 86,
   "metadata": {
    "collapsed": false
   },
   "outputs": [
    {
     "name": "stdout",
     "output_type": "stream",
     "text": [
      "1 rows affected.\n",
      "1 rows affected.\n",
      "1 rows affected.\n",
      "1 rows affected.\n"
     ]
    },
    {
     "data": {
      "text/plain": [
       "[]"
      ]
     },
     "execution_count": 86,
     "metadata": {},
     "output_type": "execute_result"
    }
   ],
   "source": [
    "%%sql \n",
    "insert into equipo values ('Estudiantes');\n",
    "insert into equipo values ('Real Madrid CB');\n",
    "insert into equipo values ('Baskonia');\n",
    "insert into equipo values ('Unicaja de Malaga ');"
   ]
  },
  {
   "cell_type": "code",
   "execution_count": 87,
   "metadata": {
    "collapsed": false
   },
   "outputs": [
    {
     "name": "stdout",
     "output_type": "stream",
     "text": [
      "Done.\n"
     ]
    },
    {
     "data": {
      "text/html": [
       "<table>\n",
       "    <tr>\n",
       "        <th>nombre</th>\n",
       "    </tr>\n",
       "    <tr>\n",
       "        <td>Estudiantes</td>\n",
       "    </tr>\n",
       "    <tr>\n",
       "        <td>Real Madrid CB</td>\n",
       "    </tr>\n",
       "    <tr>\n",
       "        <td>Baskonia</td>\n",
       "    </tr>\n",
       "    <tr>\n",
       "        <td>Unicaja de Malaga </td>\n",
       "    </tr>\n",
       "</table>"
      ],
      "text/plain": [
       "[(u'Estudiantes',),\n",
       " (u'Real Madrid CB',),\n",
       " (u'Baskonia',),\n",
       " (u'Unicaja de Malaga ',)]"
      ]
     },
     "execution_count": 87,
     "metadata": {},
     "output_type": "execute_result"
    }
   ],
   "source": [
    "%sql select * from equipo;\n"
   ]
  },
  {
   "cell_type": "code",
   "execution_count": 10,
   "metadata": {
    "collapsed": false
   },
   "outputs": [
    {
     "name": "stdout",
     "output_type": "stream",
     "text": [
      "Done.\n"
     ]
    },
    {
     "data": {
      "text/plain": [
       "[]"
      ]
     },
     "execution_count": 10,
     "metadata": {},
     "output_type": "execute_result"
    }
   ],
   "source": [
    "%%sql \n",
    "create table cancha (nombre varchar(20), dir varchar(20), primary key(nombre));"
   ]
  },
  {
   "cell_type": "code",
   "execution_count": 11,
   "metadata": {
    "collapsed": false
   },
   "outputs": [
    {
     "name": "stdout",
     "output_type": "stream",
     "text": [
      "1 rows affected.\n",
      "1 rows affected.\n",
      "1 rows affected.\n",
      "1 rows affected.\n"
     ]
    },
    {
     "data": {
      "text/plain": [
       "[]"
      ]
     },
     "execution_count": 11,
     "metadata": {},
     "output_type": "execute_result"
    }
   ],
   "source": [
    "%%sql\n",
    "insert into cancha values ('cancha01','C/ Pi 3');\n",
    "insert into cancha values ('cancha02','C/ La avenida 2');\n",
    "insert into cancha values ('cancha03','C/ Madrid 23' );\n",
    "insert into cancha values ('cancha04','C/ Real 2');"
   ]
  },
  {
   "cell_type": "code",
   "execution_count": 12,
   "metadata": {
    "collapsed": false
   },
   "outputs": [
    {
     "name": "stdout",
     "output_type": "stream",
     "text": [
      "Done.\n"
     ]
    },
    {
     "data": {
      "text/html": [
       "<table>\n",
       "    <tr>\n",
       "        <th>nombre</th>\n",
       "        <th>dir</th>\n",
       "    </tr>\n",
       "    <tr>\n",
       "        <td>cancha01</td>\n",
       "        <td>C/ Pi 3</td>\n",
       "    </tr>\n",
       "    <tr>\n",
       "        <td>cancha02</td>\n",
       "        <td>C/ La avenida 2</td>\n",
       "    </tr>\n",
       "    <tr>\n",
       "        <td>cancha03</td>\n",
       "        <td>C/ Madrid 23</td>\n",
       "    </tr>\n",
       "    <tr>\n",
       "        <td>cancha04</td>\n",
       "        <td>C/ Real 2</td>\n",
       "    </tr>\n",
       "</table>"
      ],
      "text/plain": [
       "[(u'cancha01', u'C/ Pi 3'),\n",
       " (u'cancha02', u'C/ La avenida 2'),\n",
       " (u'cancha03', u'C/ Madrid 23'),\n",
       " (u'cancha04', u'C/ Real 2')]"
      ]
     },
     "execution_count": 12,
     "metadata": {},
     "output_type": "execute_result"
    }
   ],
   "source": [
    "%sql select * from cancha;"
   ]
  },
  {
   "cell_type": "code",
   "execution_count": 18,
   "metadata": {
    "collapsed": false
   },
   "outputs": [
    {
     "name": "stdout",
     "output_type": "stream",
     "text": [
      "Done.\n"
     ]
    },
    {
     "data": {
      "text/plain": [
       "[]"
      ]
     },
     "execution_count": 18,
     "metadata": {},
     "output_type": "execute_result"
    }
   ],
   "source": [
    "%%sql\n",
    "create table entrena_cancha (nom_equipo varchar(20),nom_cancha varchar(20), primary key\n",
    "                     (nom_cancha), foreign key(nom_cancha) references cancha(nombre))"
   ]
  },
  {
   "cell_type": "code",
   "execution_count": 19,
   "metadata": {
    "collapsed": false
   },
   "outputs": [
    {
     "name": "stdout",
     "output_type": "stream",
     "text": [
      "1 rows affected.\n",
      "1 rows affected.\n",
      "1 rows affected.\n",
      "1 rows affected.\n"
     ]
    },
    {
     "data": {
      "text/plain": [
       "[]"
      ]
     },
     "execution_count": 19,
     "metadata": {},
     "output_type": "execute_result"
    }
   ],
   "source": [
    "%%sql\n",
    "insert into entrena_cancha values('Real Madrid CB','cancha01');\n",
    "insert into entrena_cancha values('Estudiantes','cancha02');\n",
    "insert into entrena_cancha values('Unicaja de Malaga','cancha03');\n",
    "insert into entrena_cancha values('Baskonia','cancha04');"
   ]
  },
  {
   "cell_type": "code",
   "execution_count": 20,
   "metadata": {
    "collapsed": false
   },
   "outputs": [
    {
     "name": "stdout",
     "output_type": "stream",
     "text": [
      "Done.\n"
     ]
    },
    {
     "data": {
      "text/html": [
       "<table>\n",
       "    <tr>\n",
       "        <th>nom_equipo</th>\n",
       "        <th>nom_cancha</th>\n",
       "    </tr>\n",
       "    <tr>\n",
       "        <td>Real Madrid CB</td>\n",
       "        <td>cancha01</td>\n",
       "    </tr>\n",
       "    <tr>\n",
       "        <td>Estudiantes</td>\n",
       "        <td>cancha02</td>\n",
       "    </tr>\n",
       "    <tr>\n",
       "        <td>Unicaja de Malaga</td>\n",
       "        <td>cancha03</td>\n",
       "    </tr>\n",
       "    <tr>\n",
       "        <td>Baskonia</td>\n",
       "        <td>cancha04</td>\n",
       "    </tr>\n",
       "</table>"
      ],
      "text/plain": [
       "[(u'Real Madrid CB', u'cancha01'),\n",
       " (u'Estudiantes', u'cancha02'),\n",
       " (u'Unicaja de Malaga', u'cancha03'),\n",
       " (u'Baskonia', u'cancha04')]"
      ]
     },
     "execution_count": 20,
     "metadata": {},
     "output_type": "execute_result"
    }
   ],
   "source": [
    "%sql select * from entrena_cancha;"
   ]
  },
  {
   "cell_type": "code",
   "execution_count": 26,
   "metadata": {
    "collapsed": false
   },
   "outputs": [
    {
     "name": "stdout",
     "output_type": "stream",
     "text": [
      "Done.\n"
     ]
    },
    {
     "data": {
      "text/plain": [
       "[]"
      ]
     },
     "execution_count": 26,
     "metadata": {},
     "output_type": "execute_result"
    }
   ],
   "source": [
    "%%sql create table equipo_pertenece (nom_eq varchar(20),nom_ciu varchar(20),nom_com varchar(20), primary key(nom_ciu,nom_com), foreign key(nom_ciu,nom_com)\n",
    "                                    references ciudad(nombre,com_auton));"
   ]
  },
  {
   "cell_type": "code",
   "execution_count": 28,
   "metadata": {
    "collapsed": false
   },
   "outputs": [
    {
     "name": "stdout",
     "output_type": "stream",
     "text": [
      "1 rows affected.\n",
      "1 rows affected.\n",
      "1 rows affected.\n",
      "1 rows affected.\n"
     ]
    },
    {
     "data": {
      "text/plain": [
       "[]"
      ]
     },
     "execution_count": 28,
     "metadata": {},
     "output_type": "execute_result"
    }
   ],
   "source": [
    "%%sql\n",
    "insert into equipo_pertenece values ('Real Madrid CB','Fuenlabrada','Madrid');\n",
    "insert into equipo_pertenece values ('Unicaja de Malaga','Avila','Castilla y Leon');\n",
    "insert into equipo_pertenece values ('Estudiantes','Mostoles','Madrid');\n",
    "insert into equipo_pertenece values ('Baskonia','Valencia','Com. Valenciana');"
   ]
  },
  {
   "cell_type": "code",
   "execution_count": 29,
   "metadata": {
    "collapsed": false
   },
   "outputs": [
    {
     "name": "stdout",
     "output_type": "stream",
     "text": [
      "Done.\n"
     ]
    },
    {
     "data": {
      "text/html": [
       "<table>\n",
       "    <tr>\n",
       "        <th>nom_eq</th>\n",
       "        <th>nom_ciu</th>\n",
       "        <th>nom_com</th>\n",
       "    </tr>\n",
       "    <tr>\n",
       "        <td>Real Madrid CB</td>\n",
       "        <td>Fuenlabrada</td>\n",
       "        <td>Madrid</td>\n",
       "    </tr>\n",
       "    <tr>\n",
       "        <td>Unicaja de Malaga</td>\n",
       "        <td>Avila</td>\n",
       "        <td>Castilla y Leon</td>\n",
       "    </tr>\n",
       "    <tr>\n",
       "        <td>Estudiantes</td>\n",
       "        <td>Mostoles</td>\n",
       "        <td>Madrid</td>\n",
       "    </tr>\n",
       "    <tr>\n",
       "        <td>Baskonia</td>\n",
       "        <td>Valencia</td>\n",
       "        <td>Com. Valenciana</td>\n",
       "    </tr>\n",
       "</table>"
      ],
      "text/plain": [
       "[(u'Real Madrid CB', u'Fuenlabrada', u'Madrid'),\n",
       " (u'Unicaja de Malaga', u'Avila', u'Castilla y Leon'),\n",
       " (u'Estudiantes', u'Mostoles', u'Madrid'),\n",
       " (u'Baskonia', u'Valencia', u'Com. Valenciana')]"
      ]
     },
     "execution_count": 29,
     "metadata": {},
     "output_type": "execute_result"
    }
   ],
   "source": [
    "%sql select * from equipo_pertenece;"
   ]
  },
  {
   "cell_type": "code",
   "execution_count": 30,
   "metadata": {
    "collapsed": false
   },
   "outputs": [
    {
     "name": "stdout",
     "output_type": "stream",
     "text": [
      "Done.\n"
     ]
    },
    {
     "data": {
      "text/plain": [
       "[]"
      ]
     },
     "execution_count": 30,
     "metadata": {},
     "output_type": "execute_result"
    }
   ],
   "source": [
    "%%sql\n",
    "create table campeonato(id_c int, fecha_in datetime, fecha_fin datetime, primary key (id_c));"
   ]
  },
  {
   "cell_type": "code",
   "execution_count": 31,
   "metadata": {
    "collapsed": false
   },
   "outputs": [
    {
     "name": "stdout",
     "output_type": "stream",
     "text": [
      "1 rows affected.\n",
      "1 rows affected.\n",
      "1 rows affected.\n",
      "1 rows affected.\n"
     ]
    },
    {
     "data": {
      "text/plain": [
       "[]"
      ]
     },
     "execution_count": 31,
     "metadata": {},
     "output_type": "execute_result"
    }
   ],
   "source": [
    "%%sql\n",
    "insert into campeonato values (1110,\"2013-07-30\",\"2014-05-12\");\n",
    "insert into campeonato values (1111,\"2014-07-30\",\"2015-05-23\");\n",
    "insert into campeonato values (1112,\"2015-07-25\",\"2016-05-21\");\n",
    "insert into campeonato values (1113,\"2016-06-30\",\"2017-05-25\");\n"
   ]
  },
  {
   "cell_type": "code",
   "execution_count": 33,
   "metadata": {
    "collapsed": false
   },
   "outputs": [
    {
     "name": "stdout",
     "output_type": "stream",
     "text": [
      "Done.\n"
     ]
    },
    {
     "data": {
      "text/html": [
       "<table>\n",
       "    <tr>\n",
       "        <th>id_c</th>\n",
       "        <th>fecha_in</th>\n",
       "        <th>fecha_fin</th>\n",
       "    </tr>\n",
       "    <tr>\n",
       "        <td>1110</td>\n",
       "        <td>2013-07-30</td>\n",
       "        <td>2014-05-12</td>\n",
       "    </tr>\n",
       "    <tr>\n",
       "        <td>1111</td>\n",
       "        <td>2014-07-30</td>\n",
       "        <td>2015-05-23</td>\n",
       "    </tr>\n",
       "    <tr>\n",
       "        <td>1112</td>\n",
       "        <td>2015-07-25</td>\n",
       "        <td>2016-05-21</td>\n",
       "    </tr>\n",
       "    <tr>\n",
       "        <td>1113</td>\n",
       "        <td>2016-06-30</td>\n",
       "        <td>2017-05-25</td>\n",
       "    </tr>\n",
       "</table>"
      ],
      "text/plain": [
       "[(1110, u'2013-07-30', u'2014-05-12'),\n",
       " (1111, u'2014-07-30', u'2015-05-23'),\n",
       " (1112, u'2015-07-25', u'2016-05-21'),\n",
       " (1113, u'2016-06-30', u'2017-05-25')]"
      ]
     },
     "execution_count": 33,
     "metadata": {},
     "output_type": "execute_result"
    }
   ],
   "source": [
    "%sql select * from campeonato;"
   ]
  },
  {
   "cell_type": "code",
   "execution_count": 34,
   "metadata": {
    "collapsed": false
   },
   "outputs": [
    {
     "name": "stdout",
     "output_type": "stream",
     "text": [
      "Done.\n"
     ]
    },
    {
     "data": {
      "text/plain": [
       "[]"
      ]
     },
     "execution_count": 34,
     "metadata": {},
     "output_type": "execute_result"
    }
   ],
   "source": [
    "%%sql\n",
    "create table entrenadores ( nif varchar(20),nombre varchar(20), fecha_nac datetime, ,primary key(nif));"
   ]
  },
  {
   "cell_type": "code",
   "execution_count": null,
   "metadata": {
    "collapsed": true
   },
   "outputs": [],
   "source": []
  },
  {
   "cell_type": "code",
   "execution_count": 37,
   "metadata": {
    "collapsed": false
   },
   "outputs": [
    {
     "name": "stdout",
     "output_type": "stream",
     "text": [
      "1 rows affected.\n",
      "1 rows affected.\n",
      "1 rows affected.\n"
     ]
    },
    {
     "data": {
      "text/plain": [
       "[]"
      ]
     },
     "execution_count": 37,
     "metadata": {},
     "output_type": "execute_result"
    }
   ],
   "source": [
    "%%sql\n",
    "\n",
    "insert into entrenadores values ('1234','Edu Fernandez',\"1980-9-12\");\n",
    "insert into entrenadores values ('12345','Mumbru ',\"1977-7-2\");\n",
    "insert into entrenadores values ('12346','Chapu Fernandez',\"1989-5-7\");"
   ]
  },
  {
   "cell_type": "code",
   "execution_count": 38,
   "metadata": {
    "collapsed": false
   },
   "outputs": [
    {
     "name": "stdout",
     "output_type": "stream",
     "text": [
      "Done.\n"
     ]
    },
    {
     "data": {
      "text/html": [
       "<table>\n",
       "    <tr>\n",
       "        <th>nif</th>\n",
       "        <th>nombre</th>\n",
       "        <th>fecha_nac</th>\n",
       "    </tr>\n",
       "    <tr>\n",
       "        <td>123</td>\n",
       "        <td>Pablo Laso</td>\n",
       "        <td>1970-12-3</td>\n",
       "    </tr>\n",
       "    <tr>\n",
       "        <td>1234</td>\n",
       "        <td>Edu Fernandez</td>\n",
       "        <td>1980-9-12</td>\n",
       "    </tr>\n",
       "    <tr>\n",
       "        <td>12345</td>\n",
       "        <td>Mumbru </td>\n",
       "        <td>1977-7-2</td>\n",
       "    </tr>\n",
       "    <tr>\n",
       "        <td>12346</td>\n",
       "        <td>Chapu Fernandez</td>\n",
       "        <td>1989-5-7</td>\n",
       "    </tr>\n",
       "</table>"
      ],
      "text/plain": [
       "[(u'123', u'Pablo Laso', u'1970-12-3'),\n",
       " (u'1234', u'Edu Fernandez', u'1980-9-12'),\n",
       " (u'12345', u'Mumbru ', u'1977-7-2'),\n",
       " (u'12346', u'Chapu Fernandez', u'1989-5-7')]"
      ]
     },
     "execution_count": 38,
     "metadata": {},
     "output_type": "execute_result"
    }
   ],
   "source": [
    "%sql select * from entrenadores;"
   ]
  },
  {
   "cell_type": "code",
   "execution_count": 43,
   "metadata": {
    "collapsed": false
   },
   "outputs": [
    {
     "name": "stdout",
     "output_type": "stream",
     "text": [
      "Done.\n"
     ]
    },
    {
     "data": {
      "text/plain": [
       "[]"
      ]
     },
     "execution_count": 43,
     "metadata": {},
     "output_type": "execute_result"
    }
   ],
   "source": [
    "%%sql create table entrena_eq( nif_entr varchar(20), idc int , nombre_cancha varchar(20), fecha_in datetime, fecha_fin datetime, primary key(\n",
    "    nif_entr,nombre_cancha), foreign key (nif_entr) references entrenadores(nif), foreign key(idc) references campeonato (id_c),\n",
    "                             foreign key(nombre_cancha) references cancha(nombre)) "
   ]
  },
  {
   "cell_type": "code",
   "execution_count": 46,
   "metadata": {
    "collapsed": false
   },
   "outputs": [
    {
     "name": "stdout",
     "output_type": "stream",
     "text": [
      "1 rows affected.\n"
     ]
    },
    {
     "data": {
      "text/plain": [
       "[]"
      ]
     },
     "execution_count": 46,
     "metadata": {},
     "output_type": "execute_result"
    }
   ],
   "source": [
    "%%sql \n",
    "\n",
    "insert into entrena_eq values ('12346','1113','cancha04',\"2015-11-02\",\"2016-01-16\");"
   ]
  },
  {
   "cell_type": "code",
   "execution_count": 47,
   "metadata": {
    "collapsed": false
   },
   "outputs": [
    {
     "name": "stdout",
     "output_type": "stream",
     "text": [
      "Done.\n"
     ]
    },
    {
     "data": {
      "text/html": [
       "<table>\n",
       "    <tr>\n",
       "        <th>nif_entr</th>\n",
       "        <th>idc</th>\n",
       "        <th>nombre_cancha</th>\n",
       "        <th>fecha_in</th>\n",
       "        <th>fecha_fin</th>\n",
       "    </tr>\n",
       "    <tr>\n",
       "        <td>123</td>\n",
       "        <td>1110</td>\n",
       "        <td>cancha01</td>\n",
       "        <td>2014-05-02</td>\n",
       "        <td>2015-03-12</td>\n",
       "    </tr>\n",
       "    <tr>\n",
       "        <td>1234</td>\n",
       "        <td>1111</td>\n",
       "        <td>cancha02</td>\n",
       "        <td>2015-07-05</td>\n",
       "        <td>2015-09-11</td>\n",
       "    </tr>\n",
       "    <tr>\n",
       "        <td>12345</td>\n",
       "        <td>1112</td>\n",
       "        <td>cancha03</td>\n",
       "        <td>2013-06-04</td>\n",
       "        <td>2015-05-16</td>\n",
       "    </tr>\n",
       "    <tr>\n",
       "        <td>12346</td>\n",
       "        <td>1113</td>\n",
       "        <td>cancha04</td>\n",
       "        <td>2015-11-02</td>\n",
       "        <td>2016-01-16</td>\n",
       "    </tr>\n",
       "</table>"
      ],
      "text/plain": [
       "[(u'123', 1110, u'cancha01', u'2014-05-02', u'2015-03-12'),\n",
       " (u'1234', 1111, u'cancha02', u'2015-07-05', u'2015-09-11'),\n",
       " (u'12345', 1112, u'cancha03', u'2013-06-04', u'2015-05-16'),\n",
       " (u'12346', 1113, u'cancha04', u'2015-11-02', u'2016-01-16')]"
      ]
     },
     "execution_count": 47,
     "metadata": {},
     "output_type": "execute_result"
    }
   ],
   "source": [
    "%sql select * from entrena_eq;"
   ]
  },
  {
   "cell_type": "code",
   "execution_count": 48,
   "metadata": {
    "collapsed": false
   },
   "outputs": [
    {
     "name": "stdout",
     "output_type": "stream",
     "text": [
      "Done.\n"
     ]
    },
    {
     "data": {
      "text/plain": [
       "[]"
      ]
     },
     "execution_count": 48,
     "metadata": {},
     "output_type": "execute_result"
    }
   ],
   "source": [
    "%sql create table empresa_patr(nombre varchar(20), cif int, primary key(nombre));"
   ]
  },
  {
   "cell_type": "code",
   "execution_count": 49,
   "metadata": {
    "collapsed": false
   },
   "outputs": [
    {
     "name": "stdout",
     "output_type": "stream",
     "text": [
      "1 rows affected.\n",
      "1 rows affected.\n",
      "1 rows affected.\n",
      "1 rows affected.\n"
     ]
    },
    {
     "data": {
      "text/plain": [
       "[]"
      ]
     },
     "execution_count": 49,
     "metadata": {},
     "output_type": "execute_result"
    }
   ],
   "source": [
    "%%sql \n",
    "insert into empresa_patr values('Endesa',1);\n",
    "insert into empresa_patr values('Iberdrola',2);\n",
    "insert into empresa_patr values('Repsol',3);\n",
    "insert into empresa_patr values('Nike',4);"
   ]
  },
  {
   "cell_type": "code",
   "execution_count": 50,
   "metadata": {
    "collapsed": false
   },
   "outputs": [
    {
     "name": "stdout",
     "output_type": "stream",
     "text": [
      "Done.\n"
     ]
    },
    {
     "data": {
      "text/html": [
       "<table>\n",
       "    <tr>\n",
       "        <th>nombre</th>\n",
       "        <th>cif</th>\n",
       "    </tr>\n",
       "    <tr>\n",
       "        <td>Endesa</td>\n",
       "        <td>1</td>\n",
       "    </tr>\n",
       "    <tr>\n",
       "        <td>Iberdrola</td>\n",
       "        <td>2</td>\n",
       "    </tr>\n",
       "    <tr>\n",
       "        <td>Repsol</td>\n",
       "        <td>3</td>\n",
       "    </tr>\n",
       "    <tr>\n",
       "        <td>Nike</td>\n",
       "        <td>4</td>\n",
       "    </tr>\n",
       "</table>"
      ],
      "text/plain": [
       "[(u'Endesa', 1), (u'Iberdrola', 2), (u'Repsol', 3), (u'Nike', 4)]"
      ]
     },
     "execution_count": 50,
     "metadata": {},
     "output_type": "execute_result"
    }
   ],
   "source": [
    "%sql select * from empresa_patr;"
   ]
  },
  {
   "cell_type": "code",
   "execution_count": 51,
   "metadata": {
    "collapsed": false
   },
   "outputs": [
    {
     "name": "stdout",
     "output_type": "stream",
     "text": [
      "Done.\n"
     ]
    },
    {
     "data": {
      "text/plain": [
       "[]"
      ]
     },
     "execution_count": 51,
     "metadata": {},
     "output_type": "execute_result"
    }
   ],
   "source": [
    "%%sql\n",
    "create table patrocina( id_c int , nomb_camp varchar(20), primary key(id_c),foreign key(id_c) references campeonato(id_c),\n",
    "                      foreign key(nomb_camp) references empresa_patr(nombre))"
   ]
  },
  {
   "cell_type": "code",
   "execution_count": 52,
   "metadata": {
    "collapsed": false
   },
   "outputs": [
    {
     "name": "stdout",
     "output_type": "stream",
     "text": [
      "1 rows affected.\n",
      "1 rows affected.\n",
      "1 rows affected.\n",
      "1 rows affected.\n"
     ]
    },
    {
     "data": {
      "text/plain": [
       "[]"
      ]
     },
     "execution_count": 52,
     "metadata": {},
     "output_type": "execute_result"
    }
   ],
   "source": [
    "%%sql\n",
    "insert into patrocina values(1110,'Endesa');\n",
    "insert into patrocina values(1111,'Repsol');\n",
    "insert into patrocina values(1112,'Nike');\n",
    "insert into patrocina values(1113,'Iberdrola');"
   ]
  },
  {
   "cell_type": "code",
   "execution_count": 54,
   "metadata": {
    "collapsed": false
   },
   "outputs": [
    {
     "name": "stdout",
     "output_type": "stream",
     "text": [
      "Done.\n"
     ]
    },
    {
     "data": {
      "text/html": [
       "<table>\n",
       "    <tr>\n",
       "        <th>id_c</th>\n",
       "        <th>nomb_camp</th>\n",
       "    </tr>\n",
       "    <tr>\n",
       "        <td>1110</td>\n",
       "        <td>Endesa</td>\n",
       "    </tr>\n",
       "    <tr>\n",
       "        <td>1111</td>\n",
       "        <td>Repsol</td>\n",
       "    </tr>\n",
       "    <tr>\n",
       "        <td>1112</td>\n",
       "        <td>Nike</td>\n",
       "    </tr>\n",
       "    <tr>\n",
       "        <td>1113</td>\n",
       "        <td>Iberdrola</td>\n",
       "    </tr>\n",
       "</table>"
      ],
      "text/plain": [
       "[(1110, u'Endesa'), (1111, u'Repsol'), (1112, u'Nike'), (1113, u'Iberdrola')]"
      ]
     },
     "execution_count": 54,
     "metadata": {},
     "output_type": "execute_result"
    }
   ],
   "source": [
    "%sql select * from patrocina;"
   ]
  },
  {
   "cell_type": "code",
   "execution_count": 55,
   "metadata": {
    "collapsed": false
   },
   "outputs": [
    {
     "name": "stdout",
     "output_type": "stream",
     "text": [
      "Done.\n"
     ]
    },
    {
     "data": {
      "text/plain": [
       "[]"
      ]
     },
     "execution_count": 55,
     "metadata": {},
     "output_type": "execute_result"
    }
   ],
   "source": [
    "%%sql\n",
    "create table jugadores (nif varchar(20), nombre varchar(20), fecha_nac datetime, estatura int, primary key(nif));"
   ]
  },
  {
   "cell_type": "code",
   "execution_count": 60,
   "metadata": {
    "collapsed": false
   },
   "outputs": [
    {
     "name": "stdout",
     "output_type": "stream",
     "text": [
      "1 rows affected.\n",
      "1 rows affected.\n"
     ]
    },
    {
     "data": {
      "text/plain": [
       "[]"
      ]
     },
     "execution_count": 60,
     "metadata": {},
     "output_type": "execute_result"
    }
   ],
   "source": [
    "%%sql\n",
    "\n",
    "insert into jugadores values ('12345','Mumbru ',\"1977-7-2\",180);\n",
    "insert into jugadores values ('12346','Olesson ',\"1989-5-7\",183);"
   ]
  },
  {
   "cell_type": "code",
   "execution_count": 61,
   "metadata": {
    "collapsed": false
   },
   "outputs": [
    {
     "name": "stdout",
     "output_type": "stream",
     "text": [
      "Done.\n"
     ]
    },
    {
     "data": {
      "text/html": [
       "<table>\n",
       "    <tr>\n",
       "        <th>nif</th>\n",
       "        <th>nombre</th>\n",
       "        <th>fecha_nac</th>\n",
       "        <th>estatura</th>\n",
       "    </tr>\n",
       "    <tr>\n",
       "        <td>123</td>\n",
       "        <td>LLul</td>\n",
       "        <td>1970-12-3</td>\n",
       "        <td>170</td>\n",
       "    </tr>\n",
       "    <tr>\n",
       "        <td>1234</td>\n",
       "        <td>Rudy </td>\n",
       "        <td>1980-9-12</td>\n",
       "        <td>175</td>\n",
       "    </tr>\n",
       "    <tr>\n",
       "        <td>12345</td>\n",
       "        <td>Mumbru </td>\n",
       "        <td>1977-7-2</td>\n",
       "        <td>180</td>\n",
       "    </tr>\n",
       "    <tr>\n",
       "        <td>12346</td>\n",
       "        <td>Olesson </td>\n",
       "        <td>1989-5-7</td>\n",
       "        <td>183</td>\n",
       "    </tr>\n",
       "</table>"
      ],
      "text/plain": [
       "[(u'123', u'LLul', u'1970-12-3', 170),\n",
       " (u'1234', u'Rudy ', u'1980-9-12', 175),\n",
       " (u'12345', u'Mumbru ', u'1977-7-2', 180),\n",
       " (u'12346', u'Olesson ', u'1989-5-7', 183)]"
      ]
     },
     "execution_count": 61,
     "metadata": {},
     "output_type": "execute_result"
    }
   ],
   "source": [
    "%sql select * from jugadores;"
   ]
  },
  {
   "cell_type": "code",
   "execution_count": 67,
   "metadata": {
    "collapsed": false
   },
   "outputs": [
    {
     "name": "stdout",
     "output_type": "stream",
     "text": [
      "Done.\n"
     ]
    },
    {
     "data": {
      "text/plain": [
       "[]"
      ]
     },
     "execution_count": 67,
     "metadata": {},
     "output_type": "execute_result"
    }
   ],
   "source": [
    "%%sql\n",
    "create table jugadores_pertenece ( nif varchar(20), idc int , nombre_eq varchar(20),\n",
    "                                 primary key(nif,idc,nombre_eq), foreign key(nif) references jugadores(nif),\n",
    "                                 foreign key(idc) references campeonato(id_c))"
   ]
  },
  {
   "cell_type": "code",
   "execution_count": 72,
   "metadata": {
    "collapsed": false
   },
   "outputs": [
    {
     "name": "stdout",
     "output_type": "stream",
     "text": [
      "1 rows affected.\n"
     ]
    },
    {
     "data": {
      "text/plain": [
       "[]"
      ]
     },
     "execution_count": 72,
     "metadata": {},
     "output_type": "execute_result"
    }
   ],
   "source": [
    "%sql insert into jugadores_pertenece values ('12346',1113,'Unicaja de Malaga');"
   ]
  },
  {
   "cell_type": "code",
   "execution_count": 73,
   "metadata": {
    "collapsed": false
   },
   "outputs": [
    {
     "name": "stdout",
     "output_type": "stream",
     "text": [
      "Done.\n"
     ]
    },
    {
     "data": {
      "text/html": [
       "<table>\n",
       "    <tr>\n",
       "        <th>nif</th>\n",
       "        <th>idc</th>\n",
       "        <th>nombre_eq</th>\n",
       "    </tr>\n",
       "    <tr>\n",
       "        <td>123</td>\n",
       "        <td>1110</td>\n",
       "        <td>Real Madrid CB</td>\n",
       "    </tr>\n",
       "    <tr>\n",
       "        <td>1234</td>\n",
       "        <td>1111</td>\n",
       "        <td>Estudiantes</td>\n",
       "    </tr>\n",
       "    <tr>\n",
       "        <td>12345</td>\n",
       "        <td>1112</td>\n",
       "        <td>Baskonia</td>\n",
       "    </tr>\n",
       "    <tr>\n",
       "        <td>12346</td>\n",
       "        <td>1113</td>\n",
       "        <td>Unicaja de Malaga</td>\n",
       "    </tr>\n",
       "</table>"
      ],
      "text/plain": [
       "[(u'123', 1110, u'Real Madrid CB'),\n",
       " (u'1234', 1111, u'Estudiantes'),\n",
       " (u'12345', 1112, u'Baskonia'),\n",
       " (u'12346', 1113, u'Unicaja de Malaga')]"
      ]
     },
     "execution_count": 73,
     "metadata": {},
     "output_type": "execute_result"
    }
   ],
   "source": [
    "%sql select * from jugadores_pertenece;"
   ]
  },
  {
   "cell_type": "code",
   "execution_count": 15,
   "metadata": {
    "collapsed": false
   },
   "outputs": [
    {
     "name": "stdout",
     "output_type": "stream",
     "text": [
      "Done.\n"
     ]
    },
    {
     "data": {
      "text/plain": [
       "[]"
      ]
     },
     "execution_count": 15,
     "metadata": {},
     "output_type": "execute_result"
    }
   ],
   "source": [
    "%%sql\n",
    "create table juega_contra(id_p int,idc int , equipo_casa varchar(20), equipo_fuera varchar(20),nombre_cancha varchar(20),hora_in datetime, hora_fin datetime, primary key(id_p,equipo_casa,equipo_fuera), \n",
    "                         foreign key(nombre_cancha) references cancha(nombre), foreign key(idc) references campeonato(id_c));"
   ]
  },
  {
   "cell_type": "code",
   "execution_count": 14,
   "metadata": {
    "collapsed": false
   },
   "outputs": [
    {
     "name": "stdout",
     "output_type": "stream",
     "text": [
      "Done.\n"
     ]
    },
    {
     "data": {
      "text/plain": [
       "[]"
      ]
     },
     "execution_count": 14,
     "metadata": {},
     "output_type": "execute_result"
    }
   ],
   "source": [
    "%%sql\n",
    "drop table juega_contra;"
   ]
  },
  {
   "cell_type": "code",
   "execution_count": 16,
   "metadata": {
    "collapsed": false
   },
   "outputs": [
    {
     "name": "stdout",
     "output_type": "stream",
     "text": [
      "1 rows affected.\n",
      "1 rows affected.\n",
      "1 rows affected.\n"
     ]
    },
    {
     "data": {
      "text/plain": [
       "[]"
      ]
     },
     "execution_count": 16,
     "metadata": {},
     "output_type": "execute_result"
    }
   ],
   "source": [
    "%%sql\n",
    "\n",
    "insert into juega_contra values (3,1110,'Real Madrid CB','Unicaja de Malaga',\"cancha01\",\"19:00:00\",\"21:00:00\");\n",
    "insert into juega_contra values (2,1110,'Baskonia','Estudiantes',\"cancha02\",\"18:00:00\",\"21:00:00\");\n",
    "insert into juega_contra values (1,1111,'Baskonia','Unicaja de Malaga',\"cancha03\",\"18:00:00\",\"21:00:00\");"
   ]
  },
  {
   "cell_type": "code",
   "execution_count": 17,
   "metadata": {
    "collapsed": false
   },
   "outputs": [
    {
     "name": "stdout",
     "output_type": "stream",
     "text": [
      "Done.\n"
     ]
    },
    {
     "data": {
      "text/html": [
       "<table>\n",
       "    <tr>\n",
       "        <th>id_p</th>\n",
       "        <th>idc</th>\n",
       "        <th>equipo_casa</th>\n",
       "        <th>equipo_fuera</th>\n",
       "        <th>nombre_cancha</th>\n",
       "        <th>hora_in</th>\n",
       "        <th>hora_fin</th>\n",
       "    </tr>\n",
       "    <tr>\n",
       "        <td>3</td>\n",
       "        <td>1110</td>\n",
       "        <td>Real Madrid CB</td>\n",
       "        <td>Unicaja de Malaga</td>\n",
       "        <td>cancha01</td>\n",
       "        <td>19:00:00</td>\n",
       "        <td>21:00:00</td>\n",
       "    </tr>\n",
       "    <tr>\n",
       "        <td>2</td>\n",
       "        <td>1110</td>\n",
       "        <td>Baskonia</td>\n",
       "        <td>Estudiantes</td>\n",
       "        <td>cancha02</td>\n",
       "        <td>18:00:00</td>\n",
       "        <td>21:00:00</td>\n",
       "    </tr>\n",
       "    <tr>\n",
       "        <td>1</td>\n",
       "        <td>1111</td>\n",
       "        <td>Baskonia</td>\n",
       "        <td>Unicaja de Malaga</td>\n",
       "        <td>cancha03</td>\n",
       "        <td>18:00:00</td>\n",
       "        <td>21:00:00</td>\n",
       "    </tr>\n",
       "</table>"
      ],
      "text/plain": [
       "[(3, 1110, 'Real Madrid CB', 'Unicaja de Malaga', 'cancha01', '19:00:00', '21:00:00'),\n",
       " (2, 1110, 'Baskonia', 'Estudiantes', 'cancha02', '18:00:00', '21:00:00'),\n",
       " (1, 1111, 'Baskonia', 'Unicaja de Malaga', 'cancha03', '18:00:00', '21:00:00')]"
      ]
     },
     "execution_count": 17,
     "metadata": {},
     "output_type": "execute_result"
    }
   ],
   "source": [
    "%sql select * from juega_contra"
   ]
  },
  {
   "cell_type": "code",
   "execution_count": 6,
   "metadata": {
    "collapsed": false
   },
   "outputs": [
    {
     "name": "stdout",
     "output_type": "stream",
     "text": [
      "Done.\n"
     ]
    },
    {
     "data": {
      "text/plain": [
       "[]"
      ]
     },
     "execution_count": 6,
     "metadata": {},
     "output_type": "execute_result"
    }
   ],
   "source": [
    "%%sql \n",
    "create table juega_pos (idp int, nif varchar(20), pos varchar(20),tpo_banquillo int, tpo_jugando int, peso int , primary key(nif,pos,idp), \n",
    "                       foreign key(nif) references jugadores(nif))"
   ]
  },
  {
   "cell_type": "code",
   "execution_count": 5,
   "metadata": {
    "collapsed": false
   },
   "outputs": [
    {
     "name": "stdout",
     "output_type": "stream",
     "text": [
      "Done.\n"
     ]
    },
    {
     "data": {
      "text/plain": [
       "[]"
      ]
     },
     "execution_count": 5,
     "metadata": {},
     "output_type": "execute_result"
    }
   ],
   "source": [
    "%%sql\n",
    "drop table juega_pos;"
   ]
  },
  {
   "cell_type": "code",
   "execution_count": 7,
   "metadata": {
    "collapsed": false
   },
   "outputs": [
    {
     "name": "stdout",
     "output_type": "stream",
     "text": [
      "1 rows affected.\n",
      "1 rows affected.\n",
      "1 rows affected.\n",
      "1 rows affected.\n",
      "1 rows affected.\n"
     ]
    },
    {
     "data": {
      "text/plain": [
       "[]"
      ]
     },
     "execution_count": 7,
     "metadata": {},
     "output_type": "execute_result"
    }
   ],
   "source": [
    "%%sql \n",
    "insert into juega_pos values (1,'123','base','15','34',89);\n",
    "insert into juega_pos values (2,'1234','base','20','23',90);\n",
    "insert into juega_pos values (3,'12345','escolta','2','39',91);\n",
    "insert into juega_pos values (2,'12346','alero','15','34',76);\n",
    "insert into juega_pos values (4,'123','alero','49','3',98);"
   ]
  },
  {
   "cell_type": "code",
   "execution_count": 8,
   "metadata": {
    "collapsed": false
   },
   "outputs": [
    {
     "name": "stdout",
     "output_type": "stream",
     "text": [
      "Done.\n"
     ]
    },
    {
     "data": {
      "text/html": [
       "<table>\n",
       "    <tr>\n",
       "        <th>idp</th>\n",
       "        <th>nif</th>\n",
       "        <th>pos</th>\n",
       "        <th>tpo_banquillo</th>\n",
       "        <th>tpo_jugando</th>\n",
       "        <th>peso</th>\n",
       "    </tr>\n",
       "    <tr>\n",
       "        <td>1</td>\n",
       "        <td>123</td>\n",
       "        <td>base</td>\n",
       "        <td>15</td>\n",
       "        <td>34</td>\n",
       "        <td>89</td>\n",
       "    </tr>\n",
       "    <tr>\n",
       "        <td>2</td>\n",
       "        <td>1234</td>\n",
       "        <td>base</td>\n",
       "        <td>20</td>\n",
       "        <td>23</td>\n",
       "        <td>90</td>\n",
       "    </tr>\n",
       "    <tr>\n",
       "        <td>3</td>\n",
       "        <td>12345</td>\n",
       "        <td>escolta</td>\n",
       "        <td>2</td>\n",
       "        <td>39</td>\n",
       "        <td>91</td>\n",
       "    </tr>\n",
       "    <tr>\n",
       "        <td>2</td>\n",
       "        <td>12346</td>\n",
       "        <td>alero</td>\n",
       "        <td>15</td>\n",
       "        <td>34</td>\n",
       "        <td>76</td>\n",
       "    </tr>\n",
       "    <tr>\n",
       "        <td>4</td>\n",
       "        <td>123</td>\n",
       "        <td>alero</td>\n",
       "        <td>49</td>\n",
       "        <td>3</td>\n",
       "        <td>98</td>\n",
       "    </tr>\n",
       "</table>"
      ],
      "text/plain": [
       "[(1, '123', 'base', 15, 34, 89),\n",
       " (2, '1234', 'base', 20, 23, 90),\n",
       " (3, '12345', 'escolta', 2, 39, 91),\n",
       " (2, '12346', 'alero', 15, 34, 76),\n",
       " (4, '123', 'alero', 49, 3, 98)]"
      ]
     },
     "execution_count": 8,
     "metadata": {},
     "output_type": "execute_result"
    }
   ],
   "source": [
    "%sql select * from juega_pos;"
   ]
  },
  {
   "cell_type": "code",
   "execution_count": 80,
   "metadata": {
    "collapsed": false
   },
   "outputs": [
    {
     "name": "stdout",
     "output_type": "stream",
     "text": [
      "Done.\n"
     ]
    },
    {
     "data": {
      "text/plain": [
       "[]"
      ]
     },
     "execution_count": 80,
     "metadata": {},
     "output_type": "execute_result"
    }
   ],
   "source": [
    "%sql create table info_partido (idp int, numcuarto int, puntuacion_casa int, puntuacion_fuera int, hora_com datetime, hora_fin datetime , primary key(idp,numcuarto,puntuacion_casa,puntuacion_fuera))"
   ]
  },
  {
   "cell_type": "code",
   "execution_count": 78,
   "metadata": {
    "collapsed": false
   },
   "outputs": [
    {
     "name": "stdout",
     "output_type": "stream",
     "text": [
      "(sqlite3.OperationalError) no such table: info_partido [SQL: 'drop table info_partido;']\n"
     ]
    }
   ],
   "source": [
    "%%sql \n",
    "drop table info_partido;"
   ]
  },
  {
   "cell_type": "code",
   "execution_count": 81,
   "metadata": {
    "collapsed": false
   },
   "outputs": [
    {
     "name": "stdout",
     "output_type": "stream",
     "text": [
      "1 rows affected.\n",
      "1 rows affected.\n",
      "1 rows affected.\n",
      "1 rows affected.\n",
      "1 rows affected.\n"
     ]
    },
    {
     "data": {
      "text/plain": [
       "[]"
      ]
     },
     "execution_count": 81,
     "metadata": {},
     "output_type": "execute_result"
    }
   ],
   "source": [
    "%%sql \n",
    "insert into info_partido values (1,2,67,65,\"13:40\",\"14:00\");\n",
    "insert into info_partido values (2,2,67,65,\"13:40\",\"14:00\");\n",
    "insert into info_partido values (3,4,87,65,\"13:40\",\"14:00\");\n",
    "insert into info_partido values (4,4,97,85,\"13:40\",\"14:00\");\n",
    "insert into info_partido values (2,4,107,65,\"13:40\",\"14:00\");\n"
   ]
  },
  {
   "cell_type": "code",
   "execution_count": 82,
   "metadata": {
    "collapsed": false
   },
   "outputs": [
    {
     "name": "stdout",
     "output_type": "stream",
     "text": [
      "Done.\n"
     ]
    },
    {
     "data": {
      "text/html": [
       "<table>\n",
       "    <tr>\n",
       "        <th>idp</th>\n",
       "        <th>numcuarto</th>\n",
       "        <th>puntuacion_casa</th>\n",
       "        <th>puntuacion_fuera</th>\n",
       "        <th>hora_com</th>\n",
       "        <th>hora_fin</th>\n",
       "    </tr>\n",
       "    <tr>\n",
       "        <td>1</td>\n",
       "        <td>2</td>\n",
       "        <td>67</td>\n",
       "        <td>65</td>\n",
       "        <td>13:40</td>\n",
       "        <td>14:00</td>\n",
       "    </tr>\n",
       "    <tr>\n",
       "        <td>2</td>\n",
       "        <td>2</td>\n",
       "        <td>67</td>\n",
       "        <td>65</td>\n",
       "        <td>13:40</td>\n",
       "        <td>14:00</td>\n",
       "    </tr>\n",
       "    <tr>\n",
       "        <td>3</td>\n",
       "        <td>4</td>\n",
       "        <td>87</td>\n",
       "        <td>65</td>\n",
       "        <td>13:40</td>\n",
       "        <td>14:00</td>\n",
       "    </tr>\n",
       "    <tr>\n",
       "        <td>4</td>\n",
       "        <td>4</td>\n",
       "        <td>97</td>\n",
       "        <td>85</td>\n",
       "        <td>13:40</td>\n",
       "        <td>14:00</td>\n",
       "    </tr>\n",
       "    <tr>\n",
       "        <td>2</td>\n",
       "        <td>4</td>\n",
       "        <td>107</td>\n",
       "        <td>65</td>\n",
       "        <td>13:40</td>\n",
       "        <td>14:00</td>\n",
       "    </tr>\n",
       "</table>"
      ],
      "text/plain": [
       "[(1, 2, 67, 65, '13:40', '14:00'),\n",
       " (2, 2, 67, 65, '13:40', '14:00'),\n",
       " (3, 4, 87, 65, '13:40', '14:00'),\n",
       " (4, 4, 97, 85, '13:40', '14:00'),\n",
       " (2, 4, 107, 65, '13:40', '14:00')]"
      ]
     },
     "execution_count": 82,
     "metadata": {},
     "output_type": "execute_result"
    }
   ],
   "source": [
    "%sql select * from info_partido;"
   ]
  },
  {
   "cell_type": "code",
   "execution_count": 177,
   "metadata": {
    "collapsed": false
   },
   "outputs": [
    {
     "name": "stdout",
     "output_type": "stream",
     "text": [
      "Done.\n"
     ]
    },
    {
     "data": {
      "text/plain": [
       "[]"
      ]
     },
     "execution_count": 177,
     "metadata": {},
     "output_type": "execute_result"
    }
   ],
   "source": [
    "%%sql\n",
    "create table jugadas_pos( id_jugada int ,intante_in datetime,inst_fin datetime, nombre_jugador vachar(20), primary key(id_jugada));"
   ]
  },
  {
   "cell_type": "code",
   "execution_count": 178,
   "metadata": {
    "collapsed": false
   },
   "outputs": [
    {
     "name": "stdout",
     "output_type": "stream",
     "text": [
      "Done.\n"
     ]
    },
    {
     "data": {
      "text/plain": [
       "[]"
      ]
     },
     "execution_count": 178,
     "metadata": {},
     "output_type": "execute_result"
    }
   ],
   "source": [
    "%%sql\n",
    "create table tiro_canasta (id_j int ,int puntuacion,primary key(id_j),foreign key (id_j) references jugadas_pos(id_jugada) on delete cascade);"
   ]
  },
  {
   "cell_type": "code",
   "execution_count": 179,
   "metadata": {
    "collapsed": false
   },
   "outputs": [
    {
     "name": "stdout",
     "output_type": "stream",
     "text": [
      "1 rows affected.\n",
      "1 rows affected.\n",
      "1 rows affected.\n",
      "1 rows affected.\n"
     ]
    },
    {
     "data": {
      "text/plain": [
       "[]"
      ]
     },
     "execution_count": 179,
     "metadata": {},
     "output_type": "execute_result"
    }
   ],
   "source": [
    "%%sql\n",
    "insert into jugadas_pos values (1,\"12:34\",\"12:45\",\"LLul\");\n",
    "insert into jugadas_pos values (2,\"23:04\",\"23:12\",\"Reyes\");\n",
    "insert into jugadas_pos values (3,\"31:12\",\"33:34\",\"Marc\");\n",
    "insert into jugadas_pos values (4,\"21:34\",\"21:45\",\"Ayon\");"
   ]
  },
  {
   "cell_type": "code",
   "execution_count": 180,
   "metadata": {
    "collapsed": false
   },
   "outputs": [
    {
     "name": "stdout",
     "output_type": "stream",
     "text": [
      "Done.\n"
     ]
    },
    {
     "data": {
      "text/html": [
       "<table>\n",
       "    <tr>\n",
       "        <th>id_jugada</th>\n",
       "        <th>intante_in</th>\n",
       "        <th>inst_fin</th>\n",
       "        <th>nombre_jugador</th>\n",
       "    </tr>\n",
       "    <tr>\n",
       "        <td>1</td>\n",
       "        <td>12:34</td>\n",
       "        <td>12:45</td>\n",
       "        <td>LLul</td>\n",
       "    </tr>\n",
       "    <tr>\n",
       "        <td>2</td>\n",
       "        <td>23:04</td>\n",
       "        <td>23:12</td>\n",
       "        <td>Reyes</td>\n",
       "    </tr>\n",
       "    <tr>\n",
       "        <td>3</td>\n",
       "        <td>31:12</td>\n",
       "        <td>33:34</td>\n",
       "        <td>Marc</td>\n",
       "    </tr>\n",
       "    <tr>\n",
       "        <td>4</td>\n",
       "        <td>21:34</td>\n",
       "        <td>21:45</td>\n",
       "        <td>Ayon</td>\n",
       "    </tr>\n",
       "</table>"
      ],
      "text/plain": [
       "[(1, u'12:34', u'12:45', u'LLul'),\n",
       " (2, u'23:04', u'23:12', u'Reyes'),\n",
       " (3, u'31:12', u'33:34', u'Marc'),\n",
       " (4, u'21:34', u'21:45', u'Ayon')]"
      ]
     },
     "execution_count": 180,
     "metadata": {},
     "output_type": "execute_result"
    }
   ],
   "source": [
    "%sql select * from jugadas_pos;"
   ]
  },
  {
   "cell_type": "code",
   "execution_count": 181,
   "metadata": {
    "collapsed": false
   },
   "outputs": [
    {
     "name": "stdout",
     "output_type": "stream",
     "text": [
      "1 rows affected.\n",
      "1 rows affected.\n",
      "1 rows affected.\n",
      "1 rows affected.\n"
     ]
    },
    {
     "data": {
      "text/plain": [
       "[]"
      ]
     },
     "execution_count": 181,
     "metadata": {},
     "output_type": "execute_result"
    }
   ],
   "source": [
    "%%sql\n",
    "insert into tiro_canasta values (1,3);\n",
    "insert into tiro_canasta values (2,-2);\n",
    "insert into tiro_canasta values (3,1);\n",
    "insert into tiro_canasta values (4,2);"
   ]
  },
  {
   "cell_type": "code",
   "execution_count": 182,
   "metadata": {
    "collapsed": false
   },
   "outputs": [
    {
     "name": "stdout",
     "output_type": "stream",
     "text": [
      "Done.\n"
     ]
    },
    {
     "data": {
      "text/html": [
       "<table>\n",
       "    <tr>\n",
       "        <th>id_j</th>\n",
       "        <th>int</th>\n",
       "    </tr>\n",
       "    <tr>\n",
       "        <td>1</td>\n",
       "        <td>3</td>\n",
       "    </tr>\n",
       "    <tr>\n",
       "        <td>2</td>\n",
       "        <td>-2</td>\n",
       "    </tr>\n",
       "    <tr>\n",
       "        <td>3</td>\n",
       "        <td>1</td>\n",
       "    </tr>\n",
       "    <tr>\n",
       "        <td>4</td>\n",
       "        <td>2</td>\n",
       "    </tr>\n",
       "</table>"
      ],
      "text/plain": [
       "[(1, 3), (2, -2), (3, 1), (4, 2)]"
      ]
     },
     "execution_count": 182,
     "metadata": {},
     "output_type": "execute_result"
    }
   ],
   "source": [
    "%sql select * from tiro_canasta;"
   ]
  },
  {
   "cell_type": "code",
   "execution_count": 191,
   "metadata": {
    "collapsed": false
   },
   "outputs": [
    {
     "name": "stdout",
     "output_type": "stream",
     "text": [
      "(sqlite3.OperationalError) table pase already exists [SQL: u'create table pase (id_j int ,realizacion varchar(20),primary key(id_j),foreign key (id_j) references jugadas_pos(id_jugada) on delete cascade);']\n"
     ]
    }
   ],
   "source": [
    "%sql create table pase (id_j int ,realizacion varchar(20),primary key(id_j),foreign key (id_j) references jugadas_pos(id_jugada) on delete cascade);"
   ]
  },
  {
   "cell_type": "code",
   "execution_count": 186,
   "metadata": {
    "collapsed": false
   },
   "outputs": [
    {
     "name": "stdout",
     "output_type": "stream",
     "text": [
      "1 rows affected.\n"
     ]
    },
    {
     "data": {
      "text/plain": [
       "[]"
      ]
     },
     "execution_count": 186,
     "metadata": {},
     "output_type": "execute_result"
    }
   ],
   "source": [
    "%%sql \n",
    "insert into pase values(3,\"roba Ollesson\");"
   ]
  },
  {
   "cell_type": "code",
   "execution_count": 188,
   "metadata": {
    "collapsed": false
   },
   "outputs": [
    {
     "name": "stdout",
     "output_type": "stream",
     "text": [
      "Done.\n"
     ]
    },
    {
     "data": {
      "text/html": [
       "<table>\n",
       "    <tr>\n",
       "        <th>id_j</th>\n",
       "        <th>realizacion</th>\n",
       "    </tr>\n",
       "    <tr>\n",
       "        <td>1</td>\n",
       "        <td>fuera</td>\n",
       "    </tr>\n",
       "    <tr>\n",
       "        <td>2</td>\n",
       "        <td>pase a reyes</td>\n",
       "    </tr>\n",
       "    <tr>\n",
       "        <td>3</td>\n",
       "        <td>roba Ollesson</td>\n",
       "    </tr>\n",
       "</table>"
      ],
      "text/plain": [
       "[(1, u'fuera'), (2, u'pase a reyes'), (3, u'roba Ollesson')]"
      ]
     },
     "execution_count": 188,
     "metadata": {},
     "output_type": "execute_result"
    }
   ],
   "source": [
    "%sql select * from pase;"
   ]
  },
  {
   "cell_type": "code",
   "execution_count": 190,
   "metadata": {
    "collapsed": false
   },
   "outputs": [
    {
     "name": "stdout",
     "output_type": "stream",
     "text": [
      "Done.\n"
     ]
    },
    {
     "data": {
      "text/plain": [
       "[]"
      ]
     },
     "execution_count": 190,
     "metadata": {},
     "output_type": "execute_result"
    }
   ],
   "source": [
    "%sql create table robo (id_j int ,nombre varchar(20),primary key(id_j),foreign key (id_j) references jugadas_pos(id_jugada) on delete cascade);"
   ]
  },
  {
   "cell_type": "code",
   "execution_count": 193,
   "metadata": {
    "collapsed": false
   },
   "outputs": [
    {
     "name": "stdout",
     "output_type": "stream",
     "text": [
      "1 rows affected.\n",
      "1 rows affected.\n",
      "1 rows affected.\n",
      "1 rows affected.\n"
     ]
    },
    {
     "data": {
      "text/plain": [
       "[]"
      ]
     },
     "execution_count": 193,
     "metadata": {},
     "output_type": "execute_result"
    }
   ],
   "source": [
    "%%sql\n",
    "insert into robo values(1,\"Ferran\");\n",
    "insert into robo values(2,\"Reyes\");\n",
    "insert into robo values(3,\"Mirotic\");\n",
    "insert into robo values(4,\"Guardia\");"
   ]
  },
  {
   "cell_type": "code",
   "execution_count": 195,
   "metadata": {
    "collapsed": false
   },
   "outputs": [
    {
     "name": "stdout",
     "output_type": "stream",
     "text": [
      "Done.\n"
     ]
    },
    {
     "data": {
      "text/html": [
       "<table>\n",
       "    <tr>\n",
       "        <th>id_j</th>\n",
       "        <th>nombre</th>\n",
       "    </tr>\n",
       "    <tr>\n",
       "        <td>1</td>\n",
       "        <td>Ferran</td>\n",
       "    </tr>\n",
       "    <tr>\n",
       "        <td>2</td>\n",
       "        <td>Reyes</td>\n",
       "    </tr>\n",
       "    <tr>\n",
       "        <td>3</td>\n",
       "        <td>Mirotic</td>\n",
       "    </tr>\n",
       "    <tr>\n",
       "        <td>4</td>\n",
       "        <td>Guardia</td>\n",
       "    </tr>\n",
       "</table>"
      ],
      "text/plain": [
       "[(1, u'Ferran'), (2, u'Reyes'), (3, u'Mirotic'), (4, u'Guardia')]"
      ]
     },
     "execution_count": 195,
     "metadata": {},
     "output_type": "execute_result"
    }
   ],
   "source": [
    "%sql select * from robo;"
   ]
  },
  {
   "cell_type": "code",
   "execution_count": 49,
   "metadata": {
    "collapsed": false
   },
   "outputs": [
    {
     "name": "stdout",
     "output_type": "stream",
     "text": [
      "Done.\n"
     ]
    },
    {
     "data": {
      "text/plain": [
       "[]"
      ]
     },
     "execution_count": 49,
     "metadata": {},
     "output_type": "execute_result"
    }
   ],
   "source": [
    "%%sql \n",
    "create table tiene_record (nif varchar(20), id_j int , id_p int,idc int, jugada varchar(20),int numero,primary key(nif,id_j,id_p,idc),\n",
    "                               foreign key(nif) references jugadores (nif), foreign key(id_j) references jugadas_pos(id_jugada)\n",
    "                          foreign key(idc) references campeonato(id_c));"
   ]
  },
  {
   "cell_type": "code",
   "execution_count": 48,
   "metadata": {
    "collapsed": false
   },
   "outputs": [
    {
     "name": "stdout",
     "output_type": "stream",
     "text": [
      "Done.\n"
     ]
    },
    {
     "data": {
      "text/plain": [
       "[]"
      ]
     },
     "execution_count": 48,
     "metadata": {},
     "output_type": "execute_result"
    }
   ],
   "source": [
    "%%sql \n",
    "drop table tiene_record;"
   ]
  },
  {
   "cell_type": "code",
   "execution_count": 50,
   "metadata": {
    "collapsed": false
   },
   "outputs": [
    {
     "name": "stdout",
     "output_type": "stream",
     "text": [
      "1 rows affected.\n",
      "1 rows affected.\n"
     ]
    },
    {
     "data": {
      "text/plain": [
       "[]"
      ]
     },
     "execution_count": 50,
     "metadata": {},
     "output_type": "execute_result"
    }
   ],
   "source": [
    "%%sql\n",
    "\n",
    "insert into tiene_record values ('123',2,1,1111,\"Rebotes\",50);\n",
    "insert into tiene_record values ('1234',2,1,1110,\"puntuacion\",90);"
   ]
  },
  {
   "cell_type": "code",
   "execution_count": 51,
   "metadata": {
    "collapsed": false
   },
   "outputs": [
    {
     "name": "stdout",
     "output_type": "stream",
     "text": [
      "Done.\n"
     ]
    },
    {
     "data": {
      "text/html": [
       "<table>\n",
       "    <tr>\n",
       "        <th>nif</th>\n",
       "        <th>id_j</th>\n",
       "        <th>id_p</th>\n",
       "        <th>idc</th>\n",
       "        <th>jugada</th>\n",
       "        <th>int</th>\n",
       "    </tr>\n",
       "    <tr>\n",
       "        <td>123</td>\n",
       "        <td>2</td>\n",
       "        <td>1</td>\n",
       "        <td>1111</td>\n",
       "        <td>Rebotes</td>\n",
       "        <td>50</td>\n",
       "    </tr>\n",
       "    <tr>\n",
       "        <td>1234</td>\n",
       "        <td>2</td>\n",
       "        <td>1</td>\n",
       "        <td>1110</td>\n",
       "        <td>puntuacion</td>\n",
       "        <td>90</td>\n",
       "    </tr>\n",
       "</table>"
      ],
      "text/plain": [
       "[('123', 2, 1, 1111, 'Rebotes', 50), ('1234', 2, 1, 1110, 'puntuacion', 90)]"
      ]
     },
     "execution_count": 51,
     "metadata": {},
     "output_type": "execute_result"
    }
   ],
   "source": [
    "%sql select * from tiene_record;"
   ]
  },
  {
   "cell_type": "code",
   "execution_count": 208,
   "metadata": {
    "collapsed": false
   },
   "outputs": [
    {
     "name": "stdout",
     "output_type": "stream",
     "text": [
      "Done.\n"
     ]
    },
    {
     "data": {
      "text/plain": [
       "[]"
      ]
     },
     "execution_count": 208,
     "metadata": {},
     "output_type": "execute_result"
    }
   ],
   "source": [
    "%%sql\n",
    "create table quitetos ( idq int, nombres varchar (50),primary key(idq) );"
   ]
  },
  {
   "cell_type": "code",
   "execution_count": 210,
   "metadata": {
    "collapsed": false
   },
   "outputs": [
    {
     "name": "stdout",
     "output_type": "stream",
     "text": [
      "1 rows affected.\n",
      "1 rows affected.\n",
      "1 rows affected.\n"
     ]
    },
    {
     "data": {
      "text/plain": [
       "[]"
      ]
     },
     "execution_count": 210,
     "metadata": {},
     "output_type": "execute_result"
    }
   ],
   "source": [
    "%%sql\n",
    "insert into quitetos values(1,\"Raul-Luis-LLUl-Reyes-Guardia\");\n",
    "insert into quitetos values(2,\"Olleson-Mirotic-Sandro-Navarro-Cabezas\");\n",
    "insert into quitetos values(3,\"Rulli-Pirri-Kobe-Gasol-Guardia\");"
   ]
  },
  {
   "cell_type": "code",
   "execution_count": 211,
   "metadata": {
    "collapsed": false
   },
   "outputs": [
    {
     "name": "stdout",
     "output_type": "stream",
     "text": [
      "Done.\n"
     ]
    },
    {
     "data": {
      "text/html": [
       "<table>\n",
       "    <tr>\n",
       "        <th>idq</th>\n",
       "        <th>nombres</th>\n",
       "    </tr>\n",
       "    <tr>\n",
       "        <td>1</td>\n",
       "        <td>Raul-Luis-LLUl-Reyes-Guardia</td>\n",
       "    </tr>\n",
       "    <tr>\n",
       "        <td>2</td>\n",
       "        <td>Olleson-Mirotic-Sandro-Navarro-Cabezas</td>\n",
       "    </tr>\n",
       "    <tr>\n",
       "        <td>3</td>\n",
       "        <td>Rulli-Pirri-Kobe-Gasol-Guardia</td>\n",
       "    </tr>\n",
       "</table>"
      ],
      "text/plain": [
       "[(1, u'Raul-Luis-LLUl-Reyes-Guardia'),\n",
       " (2, u'Olleson-Mirotic-Sandro-Navarro-Cabezas'),\n",
       " (3, u'Rulli-Pirri-Kobe-Gasol-Guardia')]"
      ]
     },
     "execution_count": 211,
     "metadata": {},
     "output_type": "execute_result"
    }
   ],
   "source": [
    "%sql select * from quitetos;"
   ]
  },
  {
   "cell_type": "code",
   "execution_count": 149,
   "metadata": {
    "collapsed": false
   },
   "outputs": [
    {
     "name": "stdout",
     "output_type": "stream",
     "text": [
      "Done.\n"
     ]
    },
    {
     "data": {
      "text/plain": [
       "[]"
      ]
     },
     "execution_count": 149,
     "metadata": {},
     "output_type": "execute_result"
    }
   ],
   "source": [
    "%%sql\n",
    "create table quinteto_juega (idp int, idq int, pos varchar(20),tpo_banquillo int, tpo_jugando int ,idc int, primary key(idq,pos,idp), \n",
    "                       foreign key(idq) references quitetos(idq), foreign key (idc) references campeonato(id_c));"
   ]
  },
  {
   "cell_type": "code",
   "execution_count": 148,
   "metadata": {
    "collapsed": false
   },
   "outputs": [
    {
     "name": "stdout",
     "output_type": "stream",
     "text": [
      "Done.\n"
     ]
    },
    {
     "data": {
      "text/plain": [
       "[]"
      ]
     },
     "execution_count": 148,
     "metadata": {},
     "output_type": "execute_result"
    }
   ],
   "source": [
    "%%sql \n",
    "drop table quinteto_juega;"
   ]
  },
  {
   "cell_type": "code",
   "execution_count": 150,
   "metadata": {
    "collapsed": false
   },
   "outputs": [
    {
     "name": "stdout",
     "output_type": "stream",
     "text": [
      "1 rows affected.\n",
      "1 rows affected.\n"
     ]
    },
    {
     "data": {
      "text/plain": [
       "[]"
      ]
     },
     "execution_count": 150,
     "metadata": {},
     "output_type": "execute_result"
    }
   ],
   "source": [
    "%%sql\n",
    "insert into quinteto_juega values (1,1,\"base\",\"22\",\"12\",1110);\n",
    "insert into quinteto_juega values (1,2,\"alero\",\"2\",\"32\",1111);"
   ]
  },
  {
   "cell_type": "code",
   "execution_count": 151,
   "metadata": {
    "collapsed": false
   },
   "outputs": [
    {
     "name": "stdout",
     "output_type": "stream",
     "text": [
      "Done.\n"
     ]
    },
    {
     "data": {
      "text/html": [
       "<table>\n",
       "    <tr>\n",
       "        <th>idp</th>\n",
       "        <th>idq</th>\n",
       "        <th>pos</th>\n",
       "        <th>tpo_banquillo</th>\n",
       "        <th>tpo_jugando</th>\n",
       "        <th>idc</th>\n",
       "    </tr>\n",
       "    <tr>\n",
       "        <td>1</td>\n",
       "        <td>1</td>\n",
       "        <td>base</td>\n",
       "        <td>22</td>\n",
       "        <td>12</td>\n",
       "        <td>1110</td>\n",
       "    </tr>\n",
       "    <tr>\n",
       "        <td>1</td>\n",
       "        <td>2</td>\n",
       "        <td>alero</td>\n",
       "        <td>2</td>\n",
       "        <td>32</td>\n",
       "        <td>1111</td>\n",
       "    </tr>\n",
       "</table>"
      ],
      "text/plain": [
       "[(1, 1, 'base', 22, 12, 1110), (1, 2, 'alero', 2, 32, 1111)]"
      ]
     },
     "execution_count": 151,
     "metadata": {},
     "output_type": "execute_result"
    }
   ],
   "source": [
    "%sql select * from quinteto_juega;"
   ]
  },
  {
   "cell_type": "code",
   "execution_count": 9,
   "metadata": {
    "collapsed": false
   },
   "outputs": [
    {
     "name": "stdout",
     "output_type": "stream",
     "text": [
      "Done.\n"
     ]
    },
    {
     "data": {
      "text/plain": [
       "[]"
      ]
     },
     "execution_count": 9,
     "metadata": {},
     "output_type": "execute_result"
    }
   ],
   "source": [
    "%%sql\n",
    "create table pases_juego ( minuto datetime ,  nif varchar(20) ,  pases int ,idp int, primary key(minuto, idp), foreign key(nif) references \n",
    "                         jugadores (nif));"
   ]
  },
  {
   "cell_type": "code",
   "execution_count": 10,
   "metadata": {
    "collapsed": false
   },
   "outputs": [
    {
     "name": "stdout",
     "output_type": "stream",
     "text": [
      "1 rows affected.\n",
      "1 rows affected.\n",
      "1 rows affected.\n"
     ]
    },
    {
     "data": {
      "text/plain": [
       "[]"
      ]
     },
     "execution_count": 10,
     "metadata": {},
     "output_type": "execute_result"
    }
   ],
   "source": [
    "%%sql\n",
    "insert into pases_juego values (\"12:34\",\"123\",15,1);\n",
    "\n"
   ]
  },
  {
   "cell_type": "code",
   "execution_count": 11,
   "metadata": {
    "collapsed": false
   },
   "outputs": [
    {
     "name": "stdout",
     "output_type": "stream",
     "text": [
      "Done.\n"
     ]
    },
    {
     "data": {
      "text/html": [
       "<table>\n",
       "    <tr>\n",
       "        <th>minuto</th>\n",
       "        <th>nif</th>\n",
       "        <th>pases</th>\n",
       "        <th>idp</th>\n",
       "    </tr>\n",
       "    <tr>\n",
       "        <td>12:34</td>\n",
       "        <td>123</td>\n",
       "        <td>15</td>\n",
       "        <td>1</td>\n",
       "    </tr>\n",
       "    <tr>\n",
       "        <td>12:35</td>\n",
       "        <td>123</td>\n",
       "        <td>16</td>\n",
       "        <td>1</td>\n",
       "    </tr>\n",
       "    <tr>\n",
       "        <td>22:32</td>\n",
       "        <td>1234</td>\n",
       "        <td>19</td>\n",
       "        <td>2</td>\n",
       "    </tr>\n",
       "</table>"
      ],
      "text/plain": [
       "[(u'12:34', u'123', 15, 1),\n",
       " (u'12:35', u'123', 16, 1),\n",
       " (u'22:32', u'1234', 19, 2)]"
      ]
     },
     "execution_count": 11,
     "metadata": {},
     "output_type": "execute_result"
    }
   ],
   "source": [
    "%sql select * from pases_juego;\n"
   ]
  },
  {
   "cell_type": "markdown",
   "metadata": {
    "collapsed": true
   },
   "source": [
    "Primera Query --> juegador juega partido peso > X"
   ]
  },
  {
   "cell_type": "code",
   "execution_count": 26,
   "metadata": {
    "collapsed": false
   },
   "outputs": [
    {
     "name": "stdout",
     "output_type": "stream",
     "text": [
      "Done.\n"
     ]
    },
    {
     "data": {
      "text/html": [
       "<table>\n",
       "    <tr>\n",
       "        <th>nombre</th>\n",
       "    </tr>\n",
       "    <tr>\n",
       "        <td>Mumbru </td>\n",
       "    </tr>\n",
       "    <tr>\n",
       "        <td>LLul</td>\n",
       "    </tr>\n",
       "</table>"
      ],
      "text/plain": [
       "[('Mumbru ',), ('LLul',)]"
      ]
     },
     "execution_count": 26,
     "metadata": {},
     "output_type": "execute_result"
    }
   ],
   "source": [
    "%%sql\n",
    "SELECT nombre\n",
    "FROM jugadores\n",
    "INNER JOIN juega_pos\n",
    "WHERE jugadores.nif = juega_pos.nif and juega_pos.peso > 90\n"
   ]
  },
  {
   "cell_type": "markdown",
   "metadata": {},
   "source": [
    "Segunda query jugadores juegan pivot en un partido\n",
    "No tengo jugadores insertados con pivot  puedo hacerlo con base "
   ]
  },
  {
   "cell_type": "code",
   "execution_count": 35,
   "metadata": {
    "collapsed": false
   },
   "outputs": [
    {
     "name": "stdout",
     "output_type": "stream",
     "text": [
      "Done.\n"
     ]
    },
    {
     "data": {
      "text/html": [
       "<table>\n",
       "    <tr>\n",
       "        <th>nombre</th>\n",
       "    </tr>\n",
       "    <tr>\n",
       "        <td>LLul</td>\n",
       "    </tr>\n",
       "    <tr>\n",
       "        <td>Rudy </td>\n",
       "    </tr>\n",
       "    <tr>\n",
       "        <td>Mumbru </td>\n",
       "    </tr>\n",
       "    <tr>\n",
       "        <td>Olesson </td>\n",
       "    </tr>\n",
       "</table>"
      ],
      "text/plain": [
       "[('LLul',), ('Rudy ',), ('Mumbru ',), ('Olesson ',)]"
      ]
     },
     "execution_count": 35,
     "metadata": {},
     "output_type": "execute_result"
    }
   ],
   "source": [
    "%%sql \n",
    "SELECT nombre\n",
    "from jugadores\n",
    "join juega_pos\n",
    "WHERE pos = \"base\" and idp=1"
   ]
  },
  {
   "cell_type": "markdown",
   "metadata": {},
   "source": [
    "Tercera query record conseguiudo max puntuacion temporada"
   ]
  },
  {
   "cell_type": "code",
   "execution_count": 53,
   "metadata": {
    "collapsed": false
   },
   "outputs": [
    {
     "name": "stdout",
     "output_type": "stream",
     "text": [
      "Done.\n"
     ]
    },
    {
     "data": {
      "text/html": [
       "<table>\n",
       "    <tr>\n",
       "        <th>nombre</th>\n",
       "    </tr>\n",
       "    <tr>\n",
       "        <td>Rudy </td>\n",
       "    </tr>\n",
       "</table>"
      ],
      "text/plain": [
       "[('Rudy ',)]"
      ]
     },
     "execution_count": 53,
     "metadata": {},
     "output_type": "execute_result"
    }
   ],
   "source": [
    "%%sql\n",
    "SELECT nombre\n",
    "from jugadores\n",
    "join tiene_record\n",
    "where jugada =\"puntuacion\" and tiene_record.nif = jugadores.nif "
   ]
  },
  {
   "cell_type": "markdown",
   "metadata": {},
   "source": [
    "Quinta query: Los 3 primeros partidos de una temporada por n´umero de puntos (suma de puntos de ambos equipos al terminar\n",
    "el partido)."
   ]
  },
  {
   "cell_type": "code",
   "execution_count": 95,
   "metadata": {
    "collapsed": false
   },
   "outputs": [
    {
     "name": "stdout",
     "output_type": "stream",
     "text": [
      "Done.\n"
     ]
    },
    {
     "data": {
      "text/html": [
       "<table>\n",
       "    <tr>\n",
       "        <th>Puntuacion_3</th>\n",
       "    </tr>\n",
       "    <tr>\n",
       "        <td>506</td>\n",
       "    </tr>\n",
       "</table>"
      ],
      "text/plain": [
       "[(506,)]"
      ]
     },
     "execution_count": 95,
     "metadata": {},
     "output_type": "execute_result"
    }
   ],
   "source": [
    "%%sql\n",
    "SELECT \n",
    "SUM(puntuacion_casa)  +SUM(puntuacion_fuera) AS Puntuacion_3 \n",
    "from info_partido\n",
    "where numcuarto=4\n",
    "ORDER by idp LIMIT 3"
   ]
  },
  {
   "cell_type": "markdown",
   "metadata": {},
   "source": [
    "Query 8: Puntuación en un instante determinado en un partido. \"baskonia\" vs \"Estudiantes\" id partido 1"
   ]
  },
  {
   "cell_type": "code",
   "execution_count": 98,
   "metadata": {
    "collapsed": false
   },
   "outputs": [
    {
     "name": "stdout",
     "output_type": "stream",
     "text": [
      "Done.\n"
     ]
    },
    {
     "data": {
      "text/html": [
       "<table>\n",
       "    <tr>\n",
       "        <th>Puntuacion</th>\n",
       "    </tr>\n",
       "    <tr>\n",
       "        <td>67-65</td>\n",
       "    </tr>\n",
       "</table>"
      ],
      "text/plain": [
       "[('67-65',)]"
      ]
     },
     "execution_count": 98,
     "metadata": {},
     "output_type": "execute_result"
    }
   ],
   "source": [
    "%%sql\n",
    "SELECT puntuacion_casa || '-' || puntuacion_fuera AS Puntuacion \n",
    "from info_partido\n",
    "where idp=1;"
   ]
  },
  {
   "cell_type": "markdown",
   "metadata": {},
   "source": [
    "Query 10.  Número de pases realizado por un jugador en un tiempo de un partido de una temporada."
   ]
  },
  {
   "cell_type": "code",
   "execution_count": 107,
   "metadata": {
    "collapsed": false
   },
   "outputs": [
    {
     "name": "stdout",
     "output_type": "stream",
     "text": [
      "Done.\n"
     ]
    },
    {
     "data": {
      "text/html": [
       "<table>\n",
       "    <tr>\n",
       "        <th>nif</th>\n",
       "        <th>nombre</th>\n",
       "        <th>fecha_nac</th>\n",
       "        <th>estatura</th>\n",
       "        <th>minuto</th>\n",
       "        <th>nif_1</th>\n",
       "        <th>pases</th>\n",
       "        <th>idp</th>\n",
       "    </tr>\n",
       "    <tr>\n",
       "        <td>123</td>\n",
       "        <td>LLul</td>\n",
       "        <td>1970-12-3</td>\n",
       "        <td>170</td>\n",
       "        <td>12:34</td>\n",
       "        <td>123</td>\n",
       "        <td>15</td>\n",
       "        <td>1</td>\n",
       "    </tr>\n",
       "    <tr>\n",
       "        <td>123</td>\n",
       "        <td>LLul</td>\n",
       "        <td>1970-12-3</td>\n",
       "        <td>170</td>\n",
       "        <td>12:35</td>\n",
       "        <td>123</td>\n",
       "        <td>16</td>\n",
       "        <td>1</td>\n",
       "    </tr>\n",
       "</table>"
      ],
      "text/plain": [
       "[('123', 'LLul', '1970-12-3', 170, '12:34', '123', 15, 1),\n",
       " ('123', 'LLul', '1970-12-3', 170, '12:35', '123', 16, 1)]"
      ]
     },
     "execution_count": 107,
     "metadata": {},
     "output_type": "execute_result"
    }
   ],
   "source": [
    "%%sql\n",
    "SELECT *\n",
    "from jugadores\n",
    "join pases_juego\n",
    "where pases_juego.nif=jugadores.nif and idp=1"
   ]
  },
  {
   "cell_type": "markdown",
   "metadata": {},
   "source": [
    "Query 11: Número de puntos conseguido por un equipo en un partido."
   ]
  },
  {
   "cell_type": "code",
   "execution_count": 111,
   "metadata": {
    "collapsed": false
   },
   "outputs": [
    {
     "name": "stdout",
     "output_type": "stream",
     "text": [
      "Done.\n"
     ]
    },
    {
     "data": {
      "text/html": [
       "<table>\n",
       "    <tr>\n",
       "        <th>idp</th>\n",
       "        <th>numcuarto</th>\n",
       "        <th>puntuacion_casa</th>\n",
       "        <th>puntuacion_fuera</th>\n",
       "        <th>hora_com</th>\n",
       "        <th>hora_fin</th>\n",
       "    </tr>\n",
       "    <tr>\n",
       "        <td>2</td>\n",
       "        <td>4</td>\n",
       "        <td>107</td>\n",
       "        <td>65</td>\n",
       "        <td>13:40</td>\n",
       "        <td>14:00</td>\n",
       "    </tr>\n",
       "</table>"
      ],
      "text/plain": [
       "[(2, 4, 107, 65, '13:40', '14:00')]"
      ]
     },
     "execution_count": 111,
     "metadata": {},
     "output_type": "execute_result"
    }
   ],
   "source": [
    "%%sql\n",
    "SELECT * \n",
    "from info_partido \n",
    "where idp=2 and  numcuarto =4"
   ]
  },
  {
   "cell_type": "markdown",
   "metadata": {},
   "source": [
    "Query 13. Número de partidos jugados en una cancha."
   ]
  },
  {
   "cell_type": "code",
   "execution_count": 120,
   "metadata": {
    "collapsed": false
   },
   "outputs": [
    {
     "name": "stdout",
     "output_type": "stream",
     "text": [
      "Done.\n"
     ]
    },
    {
     "data": {
      "text/html": [
       "<table>\n",
       "    <tr>\n",
       "        <th>Numero_de_partidos</th>\n",
       "    </tr>\n",
       "    <tr>\n",
       "        <td>1</td>\n",
       "    </tr>\n",
       "</table>"
      ],
      "text/plain": [
       "[(1,)]"
      ]
     },
     "execution_count": 120,
     "metadata": {},
     "output_type": "execute_result"
    }
   ],
   "source": [
    "%%sql\n",
    "SELECT \n",
    "COUNT (*) AS Numero_de_partidos\n",
    "from juega_contra\n",
    "where juega_contra.nombre_cancha = \"cancha01\""
   ]
  },
  {
   "cell_type": "markdown",
   "metadata": {},
   "source": [
    "Query 14: Quintetos de un equipo que jugaron en un tiempo de un partido de una temporada."
   ]
  },
  {
   "cell_type": "code",
   "execution_count": 152,
   "metadata": {
    "collapsed": false
   },
   "outputs": [
    {
     "name": "stdout",
     "output_type": "stream",
     "text": [
      "Done.\n"
     ]
    },
    {
     "data": {
      "text/html": [
       "<table>\n",
       "    <tr>\n",
       "        <th>nombres</th>\n",
       "    </tr>\n",
       "    <tr>\n",
       "        <td>Raul-Luis-LLUl-Reyes-Guardia</td>\n",
       "    </tr>\n",
       "    <tr>\n",
       "        <td>Olleson-Mirotic-Sandro-Navarro-Cabezas</td>\n",
       "    </tr>\n",
       "    <tr>\n",
       "        <td>Rulli-Pirri-Kobe-Gasol-Guardia</td>\n",
       "    </tr>\n",
       "</table>"
      ],
      "text/plain": [
       "[('Raul-Luis-LLUl-Reyes-Guardia',),\n",
       " ('Olleson-Mirotic-Sandro-Navarro-Cabezas',),\n",
       " ('Rulli-Pirri-Kobe-Gasol-Guardia',)]"
      ]
     },
     "execution_count": 152,
     "metadata": {},
     "output_type": "execute_result"
    }
   ],
   "source": [
    "%%sql\n",
    "Select nombres\n",
    "from quitetos\n",
    "join quinteto_juega\n",
    "where idp=1 and idc=1110"
   ]
  },
  {
   "cell_type": "markdown",
   "metadata": {},
   "source": [
    "Query 15: 15. Historial de los equipos entrenados por un entrenador."
   ]
  },
  {
   "cell_type": "code",
   "execution_count": 155,
   "metadata": {
    "collapsed": false
   },
   "outputs": [
    {
     "name": "stdout",
     "output_type": "stream",
     "text": [
      "(sqlite3.OperationalError) near \"join\": syntax error [SQL: 'Select nombre_eq\\njoin \\nfrom entrena_eq \\n(Select nif\\nfrom entrenadores\\nwhere nombre=\"Pablo Laso\")']\n"
     ]
    }
   ],
   "source": [
    "%%sql\n",
    "Select nombre_eq\n",
    "join \n",
    "from entrena_eq \n",
    "(Select nif\n",
    "from entrenadores\n",
    "where nombre=\"Pablo Laso\")"
   ]
  },
  {
   "cell_type": "markdown",
   "metadata": {},
   "source": [
    "Query 17: Cantidad de pases que un jugador hizo a otro (en un partido, tiempo, intervalo de tiempo,...)."
   ]
  },
  {
   "cell_type": "code",
   "execution_count": 168,
   "metadata": {
    "collapsed": false
   },
   "outputs": [
    {
     "name": "stdout",
     "output_type": "stream",
     "text": [
      "Done.\n"
     ]
    },
    {
     "data": {
      "text/html": [
       "<table>\n",
       "    <tr>\n",
       "        <th>Pases</th>\n",
       "    </tr>\n",
       "    <tr>\n",
       "        <td>31</td>\n",
       "    </tr>\n",
       "</table>"
      ],
      "text/plain": [
       "[(31,)]"
      ]
     },
     "execution_count": 168,
     "metadata": {},
     "output_type": "execute_result"
    }
   ],
   "source": [
    "%%sql\n",
    "select \n",
    "SUM(pases) AS Pases\n",
    "from pases_juego\n",
    "where nif='123'\n",
    "\n"
   ]
  },
  {
   "cell_type": "code",
   "execution_count": null,
   "metadata": {
    "collapsed": true
   },
   "outputs": [],
   "source": []
  }
 ],
 "metadata": {
  "anaconda-cloud": {},
  "kernelspec": {
   "display_name": "Python 3",
   "language": "python",
   "name": "python3"
  },
  "language_info": {
   "codemirror_mode": {
    "name": "ipython",
    "version": 3
   },
   "file_extension": ".py",
   "mimetype": "text/x-python",
   "name": "python",
   "nbconvert_exporter": "python",
   "pygments_lexer": "ipython3",
   "version": "3.5.2"
  }
 },
 "nbformat": 4,
 "nbformat_minor": 1
}
